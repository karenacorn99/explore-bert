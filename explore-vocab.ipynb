{
 "cells": [
  {
   "cell_type": "markdown",
   "metadata": {},
   "source": [
    "### Explore Bert Vocabulary ###"
   ]
  },
  {
   "cell_type": "code",
   "execution_count": 2,
   "metadata": {},
   "outputs": [],
   "source": [
    "vocab_file = \"../uncased_L-12_H-768_A-12/vocab.txt\""
   ]
  },
  {
   "cell_type": "code",
   "execution_count": 3,
   "metadata": {},
   "outputs": [],
   "source": [
    "# read all bert vocab as a list\n",
    "bert_vocab = open(vocab_file, 'r').read().split('\\n')"
   ]
  },
  {
   "cell_type": "code",
   "execution_count": null,
   "metadata": {},
   "outputs": [],
   "source": [
    "'''\n",
    "[PAD]\n",
    "[unused0] - [unused98]\n",
    "[UNK]: (index 101)unknown token\n",
    "[CLS]: (index 102)added in front of every input\n",
    "[SEP]: (index 103)separator token\n",
    "[MASK]: (index104)reduce mismatch between pre-training and fine-tuning, does not appear in fine-tuning\n",
    "[unused99] - [used993]\n",
    "'''"
   ]
  },
  {
   "cell_type": "code",
   "execution_count": null,
   "metadata": {},
   "outputs": [],
   "source": [
    "'''\n",
    "puntuations\n",
    "numbers\n",
    "punctuations\n",
    "English alphabets\n",
    "puntuations\n",
    "Greek alphabets\n",
    "other languages\n",
    "Hiragana\n",
    "Katakana\n",
    "Chinese(radicals?): both simplified and traditional\n",
    "' (' and '(' are two separate tokens\n",
    "') ' and ')' are two separate tokens\n",
    "single English words:\n",
    "##s\n",
    "numbers\n",
    "##chinese character\n",
    "'''\n",
    "# more details in Inspect BERT Vocabulary.ipynb"
   ]
  },
  {
   "cell_type": "code",
   "execution_count": 14,
   "metadata": {},
   "outputs": [
    {
     "name": "stdout",
     "output_type": "stream",
     "text": [
      "Longest word is 'telecommunications', it has length 18.\n",
      "Shortet word is '', it has length 0.\n"
     ]
    }
   ],
   "source": [
    "# longest word\n",
    "sorted_vocab = sorted(bert_vocab, key = len, reverse = True)\n",
    "print(\"Longest word is '{}', it has length {}.\".format(sorted_vocab[0], len(sorted_vocab[0])))\n",
    "print(\"Shortet word is '{}', it has length {}.\".format(sorted_vocab[-1], len(sorted_vocab[-1])))\n",
    "# empty string is part of the vocab\n"
   ]
  },
  {
   "cell_type": "code",
   "execution_count": 21,
   "metadata": {},
   "outputs": [
    {
     "name": "stdout",
     "output_type": "stream",
     "text": [
      "881\n"
     ]
    }
   ],
   "source": [
    "# get all numbers\n",
    "numbers = [word for word in bert_vocab if word.isdigit()]\n",
    "print(len(numbers))\n",
    "#print(numbers)\n",
    "# subscripts and superscripts are also in the vocab #\n",
    "# 000 #\n"
   ]
  },
  {
   "cell_type": "code",
   "execution_count": 27,
   "metadata": {},
   "outputs": [
    {
     "name": "stdout",
     "output_type": "stream",
     "text": [
      "the\n",
      "necessitated\n",
      "necessitated\n"
     ]
    }
   ],
   "source": [
    "# get all English words\n",
    "# first appearance of single English word\n",
    "print(bert_vocab[1996])\n",
    "# last appearance of single English word\n",
    "print(bert_vocab[29611])\n",
    "eng_words = bert_vocab[1996:29612]"
   ]
  },
  {
   "cell_type": "code",
   "execution_count": null,
   "metadata": {},
   "outputs": [],
   "source": []
  }
 ],
 "metadata": {
  "kernelspec": {
   "display_name": "Python 3",
   "language": "python",
   "name": "python3"
  },
  "language_info": {
   "codemirror_mode": {
    "name": "ipython",
    "version": 3
   },
   "file_extension": ".py",
   "mimetype": "text/x-python",
   "name": "python",
   "nbconvert_exporter": "python",
   "pygments_lexer": "ipython3",
   "version": "3.7.1"
  }
 },
 "nbformat": 4,
 "nbformat_minor": 2
}
