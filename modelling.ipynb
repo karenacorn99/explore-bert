{
 "cells": [
  {
   "cell_type": "markdown",
   "metadata": {
    "collapsed": true
   },
   "source": [
    "### Avg Word2vec ###"
   ]
  },
  {
   "cell_type": "code",
   "execution_count": 33,
   "metadata": {},
   "outputs": [],
   "source": [
    "import numpy as np\n",
    "import pandas as pd\n",
    "import matplotlib.pyplot as plt\n",
    "import re"
   ]
  },
  {
   "cell_type": "code",
   "execution_count": 25,
   "metadata": {},
   "outputs": [],
   "source": [
    "import gensim\n",
    "from sklearn.metrics.pairwise import cosine_similarity"
   ]
  },
  {
   "cell_type": "code",
   "execution_count": 20,
   "metadata": {},
   "outputs": [],
   "source": [
    "# load word2vec matrix\n",
    "model = gensim.models.KeyedVectors.load_word2vec_format('../../../nlp/GoogleNews-vectors-negative300.bin', binary = True) \n"
   ]
  },
  {
   "cell_type": "code",
   "execution_count": 22,
   "metadata": {
    "scrolled": true
   },
   "outputs": [
    {
     "data": {
      "text/plain": [
       "array([ 0.09912109, -0.09765625, -0.12353516,  0.16308594,  0.02856445,\n",
       "        0.00650024,  0.20214844, -0.03173828,  0.04760742, -0.3046875 ,\n",
       "        0.03466797, -0.02172852,  0.03295898,  0.16015625, -0.06494141,\n",
       "        0.10009766,  0.015625  ,  0.22949219,  0.18066406, -0.11279297,\n",
       "        0.11376953, -0.16699219,  0.140625  ,  0.07470703,  0.09521484,\n",
       "       -0.24902344, -0.18554688,  0.265625  ,  0.09619141, -0.20800781,\n",
       "       -0.30859375, -0.19335938, -0.09179688, -0.16210938, -0.18652344,\n",
       "       -0.10449219, -0.11816406,  0.05712891,  0.12890625,  0.01031494,\n",
       "       -0.07763672,  0.11669922,  0.05834961,  0.22265625, -0.00613403,\n",
       "        0.03662109, -0.10253906,  0.10058594,  0.05175781,  0.01855469,\n",
       "       -0.03686523,  0.17089844, -0.30078125,  0.04614258,  0.06445312,\n",
       "        0.09667969, -0.34179688, -0.03808594,  0.14160156, -0.1796875 ,\n",
       "       -0.22851562,  0.16796875, -0.02429199, -0.06396484,  0.00546265,\n",
       "        0.09326172,  0.07861328,  0.20117188,  0.07421875, -0.03344727,\n",
       "       -0.21679688,  0.20996094,  0.08886719,  0.04516602,  0.203125  ,\n",
       "       -0.02172852,  0.02832031,  0.23144531,  0.02612305, -0.17285156,\n",
       "       -0.12792969,  0.140625  ,  0.01074219,  0.05664062,  0.05957031,\n",
       "       -0.19628906, -0.16992188,  0.04760742, -0.15722656,  0.03613281,\n",
       "        0.07519531, -0.35742188, -0.19628906, -0.26367188,  0.0144043 ,\n",
       "        0.05322266,  0.17480469, -0.16992188, -0.01348877, -0.06347656,\n",
       "        0.10302734,  0.10498047, -0.0625    ,  0.17773438, -0.11767578,\n",
       "       -0.1640625 ,  0.00244141,  0.03540039,  0.05932617, -0.18066406,\n",
       "       -0.125     , -0.18945312, -0.0168457 , -0.03735352,  0.13574219,\n",
       "       -0.07373047,  0.01757812, -0.11914062,  0.12255859,  0.15722656,\n",
       "        0.00634766, -0.02758789, -0.33789062,  0.14550781, -0.03588867,\n",
       "        0.21484375,  0.24121094,  0.27539062, -0.0534668 , -0.14160156,\n",
       "        0.05786133,  0.02441406, -0.33984375,  0.05615234,  0.03637695,\n",
       "        0.01495361,  0.02246094,  0.06884766,  0.26171875, -0.04321289,\n",
       "       -0.0300293 , -0.11865234, -0.12695312,  0.1015625 ,  0.03198242,\n",
       "       -0.05444336, -0.10058594,  0.20996094, -0.1953125 , -0.171875  ,\n",
       "        0.35742188, -0.10546875, -0.18261719, -0.13378906,  0.03173828,\n",
       "       -0.12597656, -0.2578125 , -0.16308594,  0.16308594, -0.34765625,\n",
       "       -0.15625   , -0.27148438, -0.42773438,  0.3515625 , -0.04785156,\n",
       "        0.22753906, -0.23242188, -0.17285156,  0.0123291 ,  0.0213623 ,\n",
       "       -0.04980469, -0.06225586,  0.13769531, -0.04467773,  0.23144531,\n",
       "        0.12988281, -0.06787109,  0.171875  ,  0.00622559,  0.25390625,\n",
       "       -0.04296875, -0.02746582,  0.02404785, -0.0559082 ,  0.20410156,\n",
       "        0.11523438, -0.08154297,  0.015625  , -0.07763672, -0.06347656,\n",
       "       -0.05908203,  0.04760742, -0.08984375,  0.00534058, -0.21582031,\n",
       "       -0.1171875 , -0.12451172,  0.05541992,  0.1484375 , -0.09277344,\n",
       "       -0.078125  ,  0.328125  , -0.02404785, -0.28710938,  0.00195312,\n",
       "       -0.05273438,  0.00482178,  0.12988281,  0.02514648,  0.06884766,\n",
       "        0.02709961, -0.05688477,  0.04003906,  0.11523438,  0.01806641,\n",
       "       -0.17773438, -0.05053711,  0.01696777, -0.10058594,  0.08056641,\n",
       "       -0.125     , -0.04980469,  0.09570312, -0.06640625, -0.1484375 ,\n",
       "       -0.19628906,  0.17578125, -0.04321289, -0.00640869, -0.09179688,\n",
       "        0.08935547, -0.04321289, -0.16601562, -0.15722656,  0.03540039,\n",
       "       -0.00151825,  0.21582031, -0.25585938,  0.13964844, -0.01806641,\n",
       "        0.14160156, -0.08544922, -0.0300293 , -0.06689453, -0.06445312,\n",
       "        0.12353516, -0.10205078, -0.00570679, -0.33203125, -0.13378906,\n",
       "       -0.18359375,  0.12304688, -0.07617188,  0.24609375,  0.10742188,\n",
       "       -0.2578125 , -0.06884766,  0.06494141,  0.01196289, -0.00799561,\n",
       "       -0.06103516, -0.03198242, -0.08984375,  0.23144531, -0.11083984,\n",
       "        0.1484375 , -0.09960938,  0.14648438, -0.22851562,  0.12060547,\n",
       "        0.01013184,  0.109375  , -0.07519531, -0.125     ,  0.16308594,\n",
       "       -0.1484375 ,  0.0017395 , -0.31445312, -0.15332031,  0.14550781,\n",
       "       -0.02905273, -0.23828125,  0.15332031,  0.06640625, -0.04663086,\n",
       "       -0.03564453, -0.1796875 ,  0.12695312,  0.11376953,  0.11621094,\n",
       "       -0.06347656, -0.06030273, -0.18164062, -0.08349609, -0.14355469,\n",
       "       -0.12695312,  0.38671875, -0.17480469,  0.04956055,  0.09863281],\n",
       "      dtype=float32)"
      ]
     },
     "execution_count": 22,
     "metadata": {},
     "output_type": "execute_result"
    }
   ],
   "source": [
    "model.word_vec('social')"
   ]
  },
  {
   "cell_type": "code",
   "execution_count": 733,
   "metadata": {},
   "outputs": [],
   "source": [
    "def preprocess(text):\n",
    "    text = re.sub(r'[^\\w\\s]', ' ', text)\n",
    "    return text.lower()\n",
    "\n",
    "def get_mean_vector(model, words):\n",
    "    names = ['amy', 'jenny', 'mitch', 'john', 'alice', 'sam', 'jeff', 'mark', 'kate', 'jane', 'naomi', 'noah', 'matthew', 'emma', 'neil', 'james', 'susan', 'olivia', 'jacob', 'tony']\n",
    "    # remove out-of-vocabulary words\n",
    "    words = words.split()\n",
    "    words = [word for word in words if word in model.vocab and word not in names]\n",
    "    if len(words) >= 1:\n",
    "        return np.mean([model.word_vec(word) for word in words], axis = 0)\n",
    "        #return np.mean(wv_from_bin.word_vec(word), axis=0)\n",
    "    else:\n",
    "        return []\n",
    "\n",
    "def get_similarity(context, choice):\n",
    "    return cosine_similarity(context.reshape(1, 300), choice.reshape(1, 300))"
   ]
  },
  {
   "cell_type": "code",
   "execution_count": 734,
   "metadata": {},
   "outputs": [],
   "source": [
    "def word2vec_solver(model, test_folder):\n",
    "    test_file = test_folder + 'test.tsv'\n",
    "    df = pd.read_csv(test_file, sep = '\\t')\n",
    "    similarity = []\n",
    "    for _, row in df.iterrows():\n",
    "        sim = get_similarity(get_mean_vector(model, preprocess(row['#1 String'])), \n",
    "                             get_mean_vector(model, preprocess(row['#2 String'])))\n",
    "        similarity.append([sim[0][0], row['Quality']])\n",
    "    pd.DataFrame(similarity, columns = ['similarity', 'label']).to_csv(test_folder + 'similarity.csv', header = True, index = False)\n",
    "    return similarity"
   ]
  },
  {
   "cell_type": "code",
   "execution_count": 881,
   "metadata": {},
   "outputs": [],
   "source": [
    "def mcq_accuracy(similarity, num_choices):\n",
    "    #predictions = np.array(pd.read_csv(similarity_file, sep = '\\t')).reshape((-1, num_choices))\n",
    "    predictions = np.array(similarity)[:,0].reshape((-1, num_choices))\n",
    "    predicted_labels = np.argmax(predictions, axis = 1)\n",
    "    return np.sum(predicted_labels == 0) / 125"
   ]
  },
  {
   "cell_type": "code",
   "execution_count": 882,
   "metadata": {},
   "outputs": [],
   "source": [
    "def rank(similarity, num_choices, topk):\n",
    "    #predictions = np.array(pd.read_csv(similarity_file, sep = '\\t')).reshape((-1, num_choices))\n",
    "    predictions = np.array(similarity)[:,0].reshape((-1, num_choices))\n",
    "    predicted_labels = np.argmax(predictions, axis = 1)\n",
    "    assert len(predicted_labels) == 125\n",
    "    correct = np.array(range(topk))\n",
    "    return np.sum(np.isin(predicted_labels, correct)) / 125\n"
   ]
  },
  {
   "cell_type": "code",
   "execution_count": 1308,
   "metadata": {},
   "outputs": [],
   "source": [
    "from collections import Counter"
   ]
  },
  {
   "cell_type": "code",
   "execution_count": 1310,
   "metadata": {},
   "outputs": [],
   "source": [
    "\n",
    "# correct answer is predicted in top k\n",
    "def top_k_correct(similarity, num_choices, topk):\n",
    "    #predictions = np.array(pd.read_csv(similarity_file, sep = '\\t')).reshape((-1, num_choices))\n",
    "    predictions = np.array(similarity)[:,0].reshape((-1, num_choices))\n",
    "    #predictions = np.array(similarity).reshape((-1, num_choices))\n",
    "    #predicted_labels = np.argmax(predictions, axis = 1)\n",
    "    # get index of correct label\n",
    "    #ranks = np.argsort(predictions, axis = 1)\n",
    "    # check whether the index of correct choies is in topk\n",
    "    indices = []\n",
    "    for p in predictions:\n",
    "        correct = p[0]\n",
    "        sorted_array = sorted(p, reverse = True)\n",
    "        indices.append(sorted_array.index(correct))\n",
    "    assert len(indices) == 125\n",
    "    print(Counter(indices))\n",
    "    return sum(np.array(indices) < topk) / 125"
   ]
  },
  {
   "cell_type": "code",
   "execution_count": 1311,
   "metadata": {},
   "outputs": [
    {
     "data": {
      "text/plain": [
       "3"
      ]
     },
     "execution_count": 1311,
     "metadata": {},
     "output_type": "execute_result"
    }
   ],
   "source": [
    "p = [1, 2, 3, 3, 2, 1, 2, 3, 1]\n",
    "#top_k_correct(p, 3, 2)\n",
    "sum(np.array(p) < 2)"
   ]
  },
  {
   "cell_type": "code",
   "execution_count": 1398,
   "metadata": {},
   "outputs": [],
   "source": [
    "similarity = word2vec_solver(model, \"./goal_mcq_full/five_choices/fold10/\")\n"
   ]
  },
  {
   "cell_type": "code",
   "execution_count": 1399,
   "metadata": {},
   "outputs": [
    {
     "data": {
      "text/plain": [
       "0.384"
      ]
     },
     "execution_count": 1399,
     "metadata": {},
     "output_type": "execute_result"
    }
   ],
   "source": [
    "mcq_accuracy(similarity, 5)"
   ]
  },
  {
   "cell_type": "code",
   "execution_count": null,
   "metadata": {},
   "outputs": [],
   "source": []
  },
  {
   "cell_type": "code",
   "execution_count": 1314,
   "metadata": {},
   "outputs": [
    {
     "name": "stdout",
     "output_type": "stream",
     "text": [
      "Counter({0: 60, 2: 36, 1: 29})\n"
     ]
    },
    {
     "data": {
      "text/plain": [
       "0.712"
      ]
     },
     "execution_count": 1314,
     "metadata": {},
     "output_type": "execute_result"
    }
   ],
   "source": [
    "top_k_correct(similarity, 3, 2)"
   ]
  },
  {
   "cell_type": "code",
   "execution_count": 1302,
   "metadata": {},
   "outputs": [
    {
     "data": {
      "text/plain": [
       "0.752"
      ]
     },
     "execution_count": 1302,
     "metadata": {},
     "output_type": "execute_result"
    }
   ],
   "source": [
    "rank(similarity, 3, 2)"
   ]
  },
  {
   "cell_type": "code",
   "execution_count": 1135,
   "metadata": {},
   "outputs": [
    {
     "data": {
      "text/plain": [
       "1.0"
      ]
     },
     "execution_count": 1135,
     "metadata": {},
     "output_type": "execute_result"
    }
   ],
   "source": [
    "rank(similarity, 3, 3)"
   ]
  },
  {
   "cell_type": "code",
   "execution_count": null,
   "metadata": {},
   "outputs": [],
   "source": []
  },
  {
   "cell_type": "code",
   "execution_count": 1030,
   "metadata": {},
   "outputs": [
    {
     "data": {
      "text/plain": [
       "0.792"
      ]
     },
     "execution_count": 1030,
     "metadata": {},
     "output_type": "execute_result"
    }
   ],
   "source": [
    "rank(similarity, 5, 3)"
   ]
  },
  {
   "cell_type": "code",
   "execution_count": 1031,
   "metadata": {},
   "outputs": [
    {
     "data": {
      "text/plain": [
       "0.896"
      ]
     },
     "execution_count": 1031,
     "metadata": {},
     "output_type": "execute_result"
    }
   ],
   "source": [
    "rank(similarity, 5, 4)"
   ]
  },
  {
   "cell_type": "code",
   "execution_count": 1032,
   "metadata": {},
   "outputs": [
    {
     "data": {
      "text/plain": [
       "1.0"
      ]
     },
     "execution_count": 1032,
     "metadata": {},
     "output_type": "execute_result"
    }
   ],
   "source": [
    "rank(similarity, 5, 5)"
   ]
  },
  {
   "cell_type": "code",
   "execution_count": null,
   "metadata": {},
   "outputs": [],
   "source": []
  },
  {
   "cell_type": "code",
   "execution_count": 865,
   "metadata": {},
   "outputs": [],
   "source": [
    "#TODO\n",
    "def avg_diff(similarity, num_choices):\n",
    "    #predictions = np.array(pd.read_csv(similarity_file, sep = '\\t')).reshape((-1, num_choices))\n",
    "    predictions = np.array(similarity)[:,0].reshape((-1, num_choices))\n",
    "    return np.mean(np.absolute(np.subtract(predictions[:,0], predictions[:,1])))\n",
    "    "
   ]
  },
  {
   "cell_type": "code",
   "execution_count": 244,
   "metadata": {},
   "outputs": [
    {
     "data": {
      "text/plain": [
       "0.11346180295944214"
      ]
     },
     "execution_count": 244,
     "metadata": {},
     "output_type": "execute_result"
    }
   ],
   "source": [
    "avg_diff(similarity, 2)"
   ]
  },
  {
   "cell_type": "code",
   "execution_count": 174,
   "metadata": {},
   "outputs": [
    {
     "data": {
      "text/plain": [
       "0.712"
      ]
     },
     "execution_count": 174,
     "metadata": {},
     "output_type": "execute_result"
    }
   ],
   "source": [
    "rank(\"./mcq/three_choices/fold10/similarity.csv\", 3, 2)"
   ]
  },
  {
   "cell_type": "code",
   "execution_count": 145,
   "metadata": {},
   "outputs": [
    {
     "data": {
      "text/plain": [
       "6"
      ]
     },
     "execution_count": 145,
     "metadata": {},
     "output_type": "execute_result"
    }
   ],
   "source": [
    "'''testing block'''\n",
    "ans = np.array([0, 1])\n",
    "array = np.array([0, 0, 1, 1, 2, 1, 0, 2])\n",
    "np.sum(np.isin(array, ans))"
   ]
  },
  {
   "cell_type": "markdown",
   "metadata": {},
   "source": [
    "### PreTrained Bert ###"
   ]
  },
  {
   "cell_type": "code",
   "execution_count": 336,
   "metadata": {},
   "outputs": [],
   "source": [
    "# Run below on google colab"
   ]
  },
  {
   "cell_type": "code",
   "execution_count": null,
   "metadata": {},
   "outputs": [],
   "source": [
    "### Google Colab Mount Drive ###\n",
    "\n",
    "# Load the Drive helper and mount\n",
    "from google.colab import drive\n",
    "\n",
    "# This will prompt for authorization.\n",
    "drive.mount('/content/drive')"
   ]
  },
  {
   "cell_type": "code",
   "execution_count": null,
   "metadata": {},
   "outputs": [],
   "source": [
    "%cd drive/My\\ Drive/bert"
   ]
  },
  {
   "cell_type": "code",
   "execution_count": null,
   "metadata": {},
   "outputs": [],
   "source": [
    "!pip install transformers"
   ]
  },
  {
   "cell_type": "code",
   "execution_count": null,
   "metadata": {},
   "outputs": [],
   "source": [
    "%tensorflow_version 2.x\n",
    "import tensorflow\n",
    "print(tensorflow.__version__)"
   ]
  },
  {
   "cell_type": "code",
   "execution_count": null,
   "metadata": {},
   "outputs": [],
   "source": [
    "from torch.nn.functional import softmax\n",
    "from transformers import BertForNextSentencePrediction, BertTokenizer"
   ]
  },
  {
   "cell_type": "code",
   "execution_count": null,
   "metadata": {},
   "outputs": [],
   "source": [
    "from torch.nn.functional import softmax\n",
    "from transformers import BertConfig, BertModel, BertForPreTraining, BertTokenizer"
   ]
  },
  {
   "cell_type": "code",
   "execution_count": null,
   "metadata": {},
   "outputs": [],
   "source": [
    "seq_A = 'I like cookies !'\n",
    "seq_B = 'Mitochondia are the powerhouse of the cell .'"
   ]
  },
  {
   "cell_type": "code",
   "execution_count": null,
   "metadata": {},
   "outputs": [],
   "source": [
    "# load pretrained model and pretrained tokenizer\n",
    "model = BertForNextSentencePrediction.from_pretrained('bert-base-uncased')\n",
    "tokenizer = BertTokenizer.from_pretrained('bert-base-uncased')"
   ]
  },
  {
   "cell_type": "code",
   "execution_count": null,
   "metadata": {},
   "outputs": [],
   "source": [
    "# logits always changing\n",
    "# and wrong predictions\n",
    "config = modeling_bert.BertConfig.from_json_file(\"../social/uncased_L-12_H-768_A-12/bert_config.json\")\n",
    "model = BertForNextSentencePrediction(config)\n",
    "tokenizer = BertTokenizer.from_pretrained('bert-base-uncased')"
   ]
  },
  {
   "cell_type": "code",
   "execution_count": null,
   "metadata": {},
   "outputs": [],
   "source": [
    "# correct and stable\n",
    "config = BertConfig.from_json_file('../social/uncased_L-12_H-768_A-12/bert_config.json')\n",
    "model = BertForPreTraining.from_pretrained('../social/uncased_L-12_H-768_A-12/bert_model.ckpt.index', from_tf=True, config=config)\n",
    "tokenizer = BertTokenizer.from_pretrained('bert-base-uncased')"
   ]
  },
  {
   "cell_type": "code",
   "execution_count": null,
   "metadata": {},
   "outputs": [],
   "source": [
    "# combined as one input to the model\n",
    "encoded = tokenizer.encode_plus(seq_A, text_pair=seq_B, return_tensors='pt')\n",
    "print(encoded)"
   ]
  },
  {
   "cell_type": "code",
   "execution_count": null,
   "metadata": {},
   "outputs": [],
   "source": [
    "seq_relationship_logits = model(**encoded)[0]\n",
    "print(seq_relationship_logits)"
   ]
  },
  {
   "cell_type": "code",
   "execution_count": null,
   "metadata": {},
   "outputs": [],
   "source": [
    "# convert logits to probabilities \n",
    "# index 0: sequence B is a continuation of sequence A\n",
    "# index 1: sequence B is a random sequence\n",
    "probs = softmax(seq_relationship_logits, dim = 1)\n",
    "print(probs[0][0])"
   ]
  },
  {
   "cell_type": "code",
   "execution_count": null,
   "metadata": {},
   "outputs": [],
   "source": [
    "import numpy as np\n",
    "label = np.argmax(probs.detach().numpy(), axis = 1)\n",
    "print(label)"
   ]
  },
  {
   "cell_type": "code",
   "execution_count": null,
   "metadata": {},
   "outputs": [],
   "source": [
    "import pandas as pd"
   ]
  },
  {
   "cell_type": "code",
   "execution_count": null,
   "metadata": {},
   "outputs": [],
   "source": [
    "model = BertForNextSentencePrediction.from_pretrained('bert-base-cased')\n",
    "tokenizer = BertTokenizer.from_pretrained('bert-base-cased')"
   ]
  },
  {
   "cell_type": "code",
   "execution_count": null,
   "metadata": {},
   "outputs": [],
   "source": [
    "def bert_nextsent_solver(test_folder):\n",
    "    test_file = test_folder + \"test.tsv\"\n",
    "    df = pd.read_csv(test_file, sep = '\\t')\n",
    "    predictions = []\n",
    "    for _, row in df.iterrows():\n",
    "        seqA = row['#1 String']\n",
    "        seqB = row['#2 String']\n",
    "        encoded = tokenizer.encode_plus(seqA, text_pair=seqB, return_tensors='pt')\n",
    "        seq_relationship_logits = model(**encoded)[0]\n",
    "        probs = softmax(seq_relationship_logits, dim = 1).detach().numpy()\n",
    "        predicted_label = np.argmax(probs, axis = 1)\n",
    "        predictions.append([probs[0][0], predicted_label[0], 1 - row['Quality']])\n",
    "        pd.DataFrame(predictions, columns = ['similarity', 'predicted_label', 'label']).to_csv(test_folder + 'bert_pretrained.csv', header = True, index = False)\n",
    "    return predictions"
   ]
  },
  {
   "cell_type": "code",
   "execution_count": null,
   "metadata": {},
   "outputs": [],
   "source": [
    "def task_accuracy(predictions):\n",
    "    predicted_labels = np.array(predictions)[:,1]\n",
    "    gold_labels = np.array(predictions)[:, 2]\n",
    "    return np.sum(np.equal(predicted_labels, gold_labels)) / len(predicted_labels)"
   ]
  },
  {
   "cell_type": "code",
   "execution_count": null,
   "metadata": {},
   "outputs": [],
   "source": [
    "def mcq_accuracy(predictions, num_choices):\n",
    "    predictions = np.array(predictions)[:,0].reshape((-1, num_choices))\n",
    "    predicted_labels = np.argmax(predictions, axis = 1)\n",
    "    return np.sum(predicted_labels == 0) / 125"
   ]
  },
  {
   "cell_type": "code",
   "execution_count": null,
   "metadata": {},
   "outputs": [],
   "source": [
    "predictions = bert_nextsent_solver(\"./03same_seed/fold1/\")\n",
    "print(task_accuracy(predictions))\n",
    "print(mcq_accuracy(predictions, 2))"
   ]
  },
  {
   "cell_type": "markdown",
   "metadata": {},
   "source": [
    "### Finetune Bert ###"
   ]
  },
  {
   "cell_type": "code",
   "execution_count": 573,
   "metadata": {},
   "outputs": [],
   "source": [
    "def test_accuracy(prediction_file, gold_file):\n",
    "    labels = np.array(pd.read_csv(gold_file, sep = '\\t')['Quality'])\n",
    "    predictions = np.array(pd.read_csv(prediction_file, header=None, sep='\\t'))\n",
    "    predicted_labels = np.argmax(predictions, axis = 1)\n",
    "    return float(np.sum(labels == predicted_labels)) / float(len(labels))"
   ]
  },
  {
   "cell_type": "code",
   "execution_count": 574,
   "metadata": {},
   "outputs": [],
   "source": [
    "def mcq_accuracy(prediction_file, gold_file):\n",
    "    labels = [0] * 125\n",
    "    predictions = np.array(pd.read_csv(prediction_file, header = None, sep = '\\t').iloc[:, 1]).reshape((125, 2))\n",
    "    predicted_labels = np.argmax(predictions, axis = 1)\n",
    "    return np.sum(labels == predicted_labels) / 125.0"
   ]
  },
  {
   "cell_type": "code",
   "execution_count": 652,
   "metadata": {},
   "outputs": [],
   "source": [
    "prediction_file = \"./mcq/cv2_round2/test_results_10.tsv\"\n",
    "gold_file = \"./mcq/two_choices/04diff_seed/fold1/test.tsv\""
   ]
  },
  {
   "cell_type": "code",
   "execution_count": 653,
   "metadata": {},
   "outputs": [
    {
     "data": {
      "text/plain": [
       "0.528"
      ]
     },
     "execution_count": 653,
     "metadata": {},
     "output_type": "execute_result"
    }
   ],
   "source": [
    "test_accuracy(prediction_file, gold_file)"
   ]
  },
  {
   "cell_type": "code",
   "execution_count": 654,
   "metadata": {},
   "outputs": [
    {
     "data": {
      "text/plain": [
       "0.728"
      ]
     },
     "execution_count": 654,
     "metadata": {},
     "output_type": "execute_result"
    }
   ],
   "source": [
    "mcq_accuracy(prediction_file, gold_file)"
   ]
  },
  {
   "cell_type": "code",
   "execution_count": 568,
   "metadata": {},
   "outputs": [],
   "source": [
    "'''\n",
    "  --max_seq_length=128 \\\n",
    "  --train_batch_size=32 \\\n",
    "  --learning_rate=2e-7 \\\n",
    "  --num_train_epochs= [tune]\\\n",
    "'''\n",
    "epoch = np.array([3, 4, 5, 6, 7, 8])\n",
    "training_accuracy = np.array([0.559, 0.467, 0.568, 0.474, 0.551, 0.488])\n",
    "testing_accuracy = np.array([0.56, 0.468, 0.564, 0.472, 0.504, 0.488])\n",
    "mcq_accuracy = np.array([0.76, 0.232, 0.768, 0.16, 0.6, 0.192])\n"
   ]
  },
  {
   "cell_type": "code",
   "execution_count": 569,
   "metadata": {},
   "outputs": [
    {
     "data": {
      "image/png": "[encoded data removed]",
      "text/plain": [
       "<Figure size 432x288 with 1 Axes>"
      ]
     },
     "metadata": {
      "needs_background": "light"
     },
     "output_type": "display_data"
    }
   ],
   "source": [
    "fig = plt.figure()\n",
    "train_accuracy, = plt.plot(epoch, training_accuracy, marker = 'o')\n",
    "test_accuracy, = plt.plot(epoch, testing_accuracy, marker = 'o')\n",
    "mcq_accuracy, = plt.plot(epoch, mcq_accuracy, marker = 'o')\n",
    "plt.legend([train_accuracy, test_accuracy, mcq_accuracy], [\"train_accuracy\", \"test_accuracy\", \"mcq_accuracy\"])\n",
    "fig.suptitle(\"Accuracy vs Epoch\")\n",
    "plt.xlabel(\"Number of Epochs\")\n",
    "plt.ylabel(\"Accuracy\")\n",
    "plt.show()\n"
   ]
  },
  {
   "cell_type": "code",
   "execution_count": 570,
   "metadata": {},
   "outputs": [
    {
     "data": {
      "image/png": "[encoded data removed]",
      "text/plain": [
       "<Figure size 432x288 with 1 Axes>"
      ]
     },
     "metadata": {
      "needs_background": "light"
     },
     "output_type": "display_data"
    }
   ],
   "source": [
    "'''\n",
    "  --max_seq_length=128 \\\n",
    "  --train_batch_size=32 \\\n",
    "  --learning_rate=2e-8 \\\n",
    "  --num_train_epochs= [tune]\\\n",
    "'''\n",
    "epoch = np.array([3, 4, 5, 6, 7, 8])\n",
    "training_accuracy = np.array([0.587, 0.424, 0.489, 0.457, 0.461, 0.486])\n",
    "testing_accuracy = np.array([0.616, 0.424, 0.444, 0.468, 0.468, 0.488])\n",
    "mcq_accuracy = np.array([0.736, 0.192, 0.328, 0.568, 0.488, 0.2])\n",
    "fig = plt.figure()\n",
    "train_accuracy, = plt.plot(epoch, training_accuracy, marker = 'o')\n",
    "test_accuracy, = plt.plot(epoch, testing_accuracy, marker = 'o')\n",
    "mcq_accuracy, = plt.plot(epoch, mcq_accuracy, marker = 'o')\n",
    "plt.legend([train_accuracy, test_accuracy, mcq_accuracy], [\"train_accuracy\", \"test_accuracy\", \"mcq_accuracy\"])\n",
    "fig.suptitle(\"Accuracy vs Epoch\")\n",
    "plt.xlabel(\"Number of Epochs\")\n",
    "plt.ylabel(\"Accuracy\")\n",
    "plt.show()"
   ]
  },
  {
   "cell_type": "code",
   "execution_count": 1481,
   "metadata": {},
   "outputs": [],
   "source": [
    "'''BertForMultipleChoices'''\n",
    "# outlook prediction resolution context\n",
    "import os\n",
    "def create_mcq_file(infolder, outfolder, fold_num):\n",
    "    # process train\n",
    "    train_file = infolder + \"train.tsv\"\n",
    "    train_df = pd.read_csv(train_file, sep = '\\t')\n",
    "    assert len(train_df) == 125 * 9 * 5\n",
    "    train_data = []\n",
    "    for index, row in train_df.iterrows():\n",
    "        if index % 5 == 0:\n",
    "            resolution = row['#1 String']\n",
    "            outlook0 = row['#2 String']\n",
    "            outlook1 = train_df.iloc[index+1,:]['#2 String']\n",
    "            outlook2 = train_df.iloc[index+2,:]['#2 String']\n",
    "            outlook3 = train_df.iloc[index+3,:]['#2 String']\n",
    "            outlook4 = train_df.iloc[index+4,:]['#2 String']\n",
    "            train_data.append([resolution, outlook0, outlook1, outlook2, outlook3, outlook4, 0])\n",
    "    # process test\n",
    "    test_file = infolder + \"test.tsv\"\n",
    "    test_df = pd.read_csv(test_file, sep = '\\t')\n",
    "    assert len(test_df) == 125 * 5\n",
    "    test_data = []\n",
    "    for index, row in test_df.iterrows():\n",
    "        if index % 5 == 0:\n",
    "            resolution = row['#1 String']\n",
    "            outlook0 = row['#2 String']\n",
    "            outlook1 = test_df.iloc[index+1,:]['#2 String']\n",
    "            outlook2 = test_df.iloc[index+2,:]['#2 String']\n",
    "            outlook3 = test_df.iloc[index+3,:]['#2 String']\n",
    "            outlook4 = test_df.iloc[index+4,:]['#2 String']\n",
    "            test_data.append([resolution, outlook0, outlook1, outlook2, outlook3, outlook4, 0])\n",
    "    try:\n",
    "        os.mkdir(outfolder + \"fold{}\".format(fold_num))\n",
    "    except FileExistsError:\n",
    "        pass\n",
    "    train_df = pd.DataFrame(train_data, columns = ['context', 'choice0', 'choice1', 'choice2', 'choice3', 'choice4', 'label'])\n",
    "    test_df = pd.DataFrame(test_data, columns = ['context', 'choice0', 'choice1', 'choice2', 'choice3', 'choice4', 'label'])\n",
    "    train_df.to_csv(outfolder + \"fold{}/\".format(fold_num) + 'train.csv', header = True, index = False)\n",
    "    train_df.to_csv(outfolder + \"fold{}/\".format(fold_num) + 'dev.csv', header = True, index = False)\n",
    "    test_df.to_csv(outfolder + \"fold{}/\".format(fold_num) + 'test.csv', header = True, index = False)\n",
    "    return"
   ]
  },
  {
   "cell_type": "code",
   "execution_count": 1502,
   "metadata": {},
   "outputs": [],
   "source": [
    "fold_num = 10\n",
    "create_mcq_file(\"./mcq/five_choices/fold{}/\".format(fold_num),\"./BertMCQ/outlook_partial/\", fold_num)\n"
   ]
  },
  {
   "cell_type": "code",
   "execution_count": null,
   "metadata": {},
   "outputs": [],
   "source": []
  },
  {
   "cell_type": "code",
   "execution_count": 1517,
   "metadata": {},
   "outputs": [],
   "source": [
    "def create_full_file(infolder, outfolder, fold_num):\n",
    "    # process train\n",
    "    train_file = infolder + \"train.tsv\"\n",
    "    train_df = pd.read_csv(train_file, sep = '\\t')\n",
    "    assert len(train_df) == 125 * 9 * 5\n",
    "    train_data = []\n",
    "    for index, row in train_df.iterrows():\n",
    "        if index % 5 == 0:\n",
    "            resolution = row['#1 String'] + \" \" + row['#3 String']\n",
    "            outlook0 = row['#2 String']\n",
    "            outlook1 = train_df.iloc[index+1,:]['#2 String']\n",
    "            outlook2 = train_df.iloc[index+2,:]['#2 String']\n",
    "            outlook3 = train_df.iloc[index+3,:]['#2 String']\n",
    "            outlook4 = train_df.iloc[index+4,:]['#2 String']\n",
    "            train_data.append([resolution, outlook0, outlook1, outlook2, outlook3, outlook4, 0])\n",
    "    # process test\n",
    "    test_file = infolder + \"test.tsv\"\n",
    "    test_df = pd.read_csv(test_file, sep = '\\t')\n",
    "    assert len(test_df) == 125 * 5\n",
    "    test_data = []\n",
    "    for index, row in test_df.iterrows():\n",
    "        if index % 5 == 0:\n",
    "            resolution = row['#1 String'] + \" \" + row['#3 String']\n",
    "            outlook0 = row['#2 String']\n",
    "            outlook1 = test_df.iloc[index+1,:]['#2 String']\n",
    "            outlook2 = test_df.iloc[index+2,:]['#2 String']\n",
    "            outlook3 = test_df.iloc[index+3,:]['#2 String']\n",
    "            outlook4 = test_df.iloc[index+4,:]['#2 String']\n",
    "            test_data.append([resolution, outlook0, outlook1, outlook2, outlook3, outlook4, 0])\n",
    "    try:\n",
    "        os.mkdir(outfolder + \"fold{}\".format(fold_num))\n",
    "    except FileExistsError:\n",
    "        pass\n",
    "    train_df = pd.DataFrame(train_data, columns = ['context', 'choice0', 'choice1', 'choice2', 'choice3', 'choice4', 'label'])\n",
    "    test_df = pd.DataFrame(test_data, columns = ['context', 'choice0', 'choice1', 'choice2', 'choice3', 'choice4', 'label'])\n",
    "    train_df.to_csv(outfolder + \"fold{}/\".format(fold_num) + 'train.csv', header = True, index = False)\n",
    "    train_df.to_csv(outfolder + \"fold{}/\".format(fold_num) + 'dev.csv', header = True, index = False)\n",
    "    test_df.to_csv(outfolder + \"fold{}/\".format(fold_num) + 'test.csv', header = True, index = False)\n",
    "    return"
   ]
  },
  {
   "cell_type": "code",
   "execution_count": 1527,
   "metadata": {},
   "outputs": [],
   "source": [
    "fold_num = 10\n",
    "create_full_file(\"./goal_mcq_full/five_choices/fold{}/\".format(fold_num),\"./BertMCQ/resolution_full/\", fold_num)\n",
    "\n"
   ]
  },
  {
   "cell_type": "code",
   "execution_count": null,
   "metadata": {},
   "outputs": [],
   "source": []
  },
  {
   "cell_type": "code",
   "execution_count": 1413,
   "metadata": {},
   "outputs": [],
   "source": [
    "# decide max_sequence_length by inspecting training example length\n",
    "from nltk.tokenize import sent_tokenize, word_tokenize\n",
    "df = pd.read_csv('final_stories.csv')\n",
    "df['partial'] = df['resolution'] + df['outlook']\n",
    "lengths = []\n",
    "for partial in df['partial']:\n",
    "    lengths.append(len(word_tokenize(partial)))"
   ]
  },
  {
   "cell_type": "code",
   "execution_count": 1418,
   "metadata": {},
   "outputs": [
    {
     "name": "stdout",
     "output_type": "stream",
     "text": [
      "[(140, 1), (129, 1), (124, 1), (122, 1), (115, 1), (100, 2), (99, 1), (98, 1), (95, 1), (94, 2), (93, 1), (92, 4), (91, 1), (90, 4), (88, 2), (87, 2), (86, 2), (85, 3), (84, 3), (83, 2), (82, 4), (81, 3), (80, 5), (79, 4), (78, 4), (77, 9), (76, 7), (75, 8), (74, 8), (73, 8), (72, 11), (71, 15), (70, 14), (69, 11), (68, 9), (67, 11), (66, 13), (65, 22), (64, 19), (63, 13), (62, 9), (61, 20), (60, 20), (59, 21), (58, 21), (57, 23), (56, 31), (55, 36), (54, 20), (53, 33), (52, 24), (51, 22), (50, 27), (49, 25), (48, 24), (47, 35), (46, 31), (45, 34), (44, 24), (43, 31), (42, 32), (41, 31), (40, 36), (39, 25), (38, 22), (37, 28), (36, 23), (35, 30), (34, 29), (33, 24), (32, 13), (31, 17), (30, 19), (29, 11), (28, 14), (27, 14), (26, 19), (25, 15), (24, 26), (23, 14), (22, 15), (21, 11), (20, 10), (19, 5), (18, 6), (17, 6), (16, 3), (15, 2), (14, 2), (13, 1), (12, 2)]\n"
     ]
    }
   ],
   "source": [
    "from collections import Counter\n",
    "print(sorted(Counter(lengths).items(), key = lambda x:x[0], reverse = True))"
   ]
  },
  {
   "cell_type": "code",
   "execution_count": 1420,
   "metadata": {},
   "outputs": [],
   "source": [
    "df['full'] = df['seed'] + df['buildup'] + df['climax'] + df['resolution'] + df['outlook']\n",
    "lengths = []\n",
    "for full in df['full']:\n",
    "    lengths.append(len(word_tokenize(full)))"
   ]
  },
  {
   "cell_type": "code",
   "execution_count": 1421,
   "metadata": {},
   "outputs": [
    {
     "name": "stdout",
     "output_type": "stream",
     "text": [
      "[(205, 1), (197, 2), (196, 1), (191, 1), (190, 1), (188, 1), (186, 1), (178, 1), (175, 1), (173, 1), (170, 3), (165, 2), (164, 2), (163, 1), (162, 1), (161, 3), (160, 3), (158, 1), (157, 2), (156, 3), (155, 7), (154, 1), (153, 8), (152, 5), (151, 4), (150, 8), (149, 6), (148, 2), (147, 8), (146, 7), (145, 7), (144, 5), (143, 6), (142, 10), (141, 10), (140, 9), (139, 8), (138, 9), (137, 6), (136, 8), (135, 16), (134, 14), (133, 21), (132, 12), (131, 17), (130, 25), (129, 17), (128, 20), (127, 13), (126, 21), (125, 23), (124, 14), (123, 21), (122, 18), (121, 26), (120, 30), (119, 27), (118, 24), (117, 21), (116, 29), (115, 16), (114, 26), (113, 27), (112, 38), (111, 27), (110, 22), (109, 20), (108, 26), (107, 24), (106, 17), (105, 23), (104, 14), (103, 27), (102, 25), (101, 19), (100, 23), (99, 25), (98, 19), (97, 19), (96, 25), (95, 21), (94, 24), (93, 17), (92, 12), (91, 12), (90, 7), (89, 13), (88, 12), (87, 13), (86, 8), (85, 9), (84, 7), (83, 5), (82, 5), (81, 11), (80, 4), (79, 3), (78, 2), (77, 4), (76, 4), (75, 1), (74, 1), (73, 4), (72, 2), (71, 4), (70, 1), (69, 1), (68, 2), (67, 1), (64, 1), (62, 1), (58, 1)]\n"
     ]
    }
   ],
   "source": [
    "print(sorted(Counter(lengths).items(), key = lambda x:x[0], reverse = True))"
   ]
  },
  {
   "cell_type": "markdown",
   "metadata": {},
   "source": [
    "### Pre-training Bert ###"
   ]
  },
  {
   "cell_type": "code",
   "execution_count": 659,
   "metadata": {},
   "outputs": [],
   "source": [
    "from nltk.tokenize import sent_tokenize"
   ]
  },
  {
   "cell_type": "code",
   "execution_count": 655,
   "metadata": {},
   "outputs": [],
   "source": [
    "# prepare pretraining text files\n",
    "df = pd.read_csv(\"final_stories.csv\")"
   ]
  },
  {
   "cell_type": "code",
   "execution_count": 656,
   "metadata": {},
   "outputs": [
    {
     "data": {
      "text/html": [
       "<div>\n",
       "<style scoped>\n",
       "    .dataframe tbody tr th:only-of-type {\n",
       "        vertical-align: middle;\n",
       "    }\n",
       "\n",
       "    .dataframe tbody tr th {\n",
       "        vertical-align: top;\n",
       "    }\n",
       "\n",
       "    .dataframe thead th {\n",
       "        text-align: right;\n",
       "    }\n",
       "</style>\n",
       "<table border=\"1\" class=\"dataframe\">\n",
       "  <thead>\n",
       "    <tr style=\"text-align: right;\">\n",
       "      <th></th>\n",
       "      <th>seed</th>\n",
       "      <th>buildup</th>\n",
       "      <th>climax</th>\n",
       "      <th>resolution</th>\n",
       "      <th>outlook</th>\n",
       "    </tr>\n",
       "  </thead>\n",
       "  <tbody>\n",
       "    <tr>\n",
       "      <th>0</th>\n",
       "      <td>Amy asked her friend Jenny to go to the mall w...</td>\n",
       "      <td>Amy needed a new dress for the upcoming formal...</td>\n",
       "      <td>One hour later, Amy still had not found a dres...</td>\n",
       "      <td>With Jenny's help, Amy finally found that dres...</td>\n",
       "      <td>Amy decided that Jenny was a friend that she c...</td>\n",
       "    </tr>\n",
       "    <tr>\n",
       "      <th>1</th>\n",
       "      <td>Amy asked her friend Jenny to go to the mall w...</td>\n",
       "      <td>Amy needed a new dress for the upcoming formal...</td>\n",
       "      <td>One hour later, Amy still had not found a dres...</td>\n",
       "      <td>At the end, Amy still could not find a dress t...</td>\n",
       "      <td>Jenny thought to herself that if Amy needs a f...</td>\n",
       "    </tr>\n",
       "    <tr>\n",
       "      <th>2</th>\n",
       "      <td>Amy asked her friend Jenny to go to the mall w...</td>\n",
       "      <td>Amy needed a new dress for the upcoming formal...</td>\n",
       "      <td>One hour later, Amy still had not found a dres...</td>\n",
       "      <td>Jenny told her to make up her mind soon. Amy t...</td>\n",
       "      <td>Amy was happy with Jenny's suggestion and will...</td>\n",
       "    </tr>\n",
       "    <tr>\n",
       "      <th>3</th>\n",
       "      <td>Amy asked her friend Jenny to go to the mall w...</td>\n",
       "      <td>Amy needed a new dress for the upcoming formal...</td>\n",
       "      <td>One hour later, Amy still had not found a dres...</td>\n",
       "      <td>Amy relaxed and kept shopping with Jenny. It t...</td>\n",
       "      <td>Amy was glad Jenny was so patient with her and...</td>\n",
       "    </tr>\n",
       "    <tr>\n",
       "      <th>4</th>\n",
       "      <td>Amy asked her friend Jenny to go to the mall w...</td>\n",
       "      <td>Amy needed a new dress for the upcoming formal...</td>\n",
       "      <td>One hour later, Amy still had not found a dres...</td>\n",
       "      <td>After taking some time to calm down, they went...</td>\n",
       "      <td>Amy was thankful to have such a good friend in...</td>\n",
       "    </tr>\n",
       "  </tbody>\n",
       "</table>\n",
       "</div>"
      ],
      "text/plain": [
       "                                                seed  \\\n",
       "0  Amy asked her friend Jenny to go to the mall w...   \n",
       "1  Amy asked her friend Jenny to go to the mall w...   \n",
       "2  Amy asked her friend Jenny to go to the mall w...   \n",
       "3  Amy asked her friend Jenny to go to the mall w...   \n",
       "4  Amy asked her friend Jenny to go to the mall w...   \n",
       "\n",
       "                                             buildup  \\\n",
       "0  Amy needed a new dress for the upcoming formal...   \n",
       "1  Amy needed a new dress for the upcoming formal...   \n",
       "2  Amy needed a new dress for the upcoming formal...   \n",
       "3  Amy needed a new dress for the upcoming formal...   \n",
       "4  Amy needed a new dress for the upcoming formal...   \n",
       "\n",
       "                                              climax  \\\n",
       "0  One hour later, Amy still had not found a dres...   \n",
       "1  One hour later, Amy still had not found a dres...   \n",
       "2  One hour later, Amy still had not found a dres...   \n",
       "3  One hour later, Amy still had not found a dres...   \n",
       "4  One hour later, Amy still had not found a dres...   \n",
       "\n",
       "                                          resolution  \\\n",
       "0  With Jenny's help, Amy finally found that dres...   \n",
       "1  At the end, Amy still could not find a dress t...   \n",
       "2  Jenny told her to make up her mind soon. Amy t...   \n",
       "3  Amy relaxed and kept shopping with Jenny. It t...   \n",
       "4  After taking some time to calm down, they went...   \n",
       "\n",
       "                                             outlook  \n",
       "0  Amy decided that Jenny was a friend that she c...  \n",
       "1  Jenny thought to herself that if Amy needs a f...  \n",
       "2  Amy was happy with Jenny's suggestion and will...  \n",
       "3  Amy was glad Jenny was so patient with her and...  \n",
       "4  Amy was thankful to have such a good friend in...  "
      ]
     },
     "execution_count": 656,
     "metadata": {},
     "output_type": "execute_result"
    }
   ],
   "source": [
    "df.head()"
   ]
  },
  {
   "cell_type": "code",
   "execution_count": 696,
   "metadata": {},
   "outputs": [],
   "source": [
    "stories = []\n",
    "for _, row in df.iterrows():\n",
    "    full_story = ' '.join([row['seed'], row['buildup'], row['climax'], row['resolution'], row['outlook']])\n",
    "    #stories.append(sent_tokenize(row['resolution']) + sent_tokenize(row['outlook']))\n",
    "    #stories.append([row['resolution'], row['outlook']])\n",
    "    stories.append(sent_tokenize(full_story))"
   ]
  },
  {
   "cell_type": "code",
   "execution_count": 697,
   "metadata": {},
   "outputs": [],
   "source": [
    "with open('all_stories.txt', 'w') as f:\n",
    "    for story in stories:\n",
    "        for sent in story:\n",
    "            f.write(sent + '\\n')\n",
    "        f.write('\\n')"
   ]
  },
  {
   "cell_type": "code",
   "execution_count": 1033,
   "metadata": {},
   "outputs": [],
   "source": [
    "### create cv file for tuning attention weights ###\n",
    "def get_fold_text(infile, test_fold):\n",
    "    df = pd.read_csv(infile)\n",
    "    assert len(df) == 1250\n",
    "    test = list(range((test_fold - 1) * 125, test_fold * 125))\n",
    "    train = list(set(range(0, 1250)) - set(test))\n",
    "    train_df = df.iloc[train, :]\n",
    "    assert len(train_df) == (1250 - 125)\n",
    "    #test_df = df.iloc[test, :]\n",
    "    '''\n",
    "    with open('./attention_cv/fold{}.txt'.format(test_fold), 'w') as f:\n",
    "        for _, row in train_df.iterrows():\n",
    "            sents = sent_tokenize(row['resolution']) + sent_tokenize(row['outlook'])\n",
    "            for sent in sents:\n",
    "                f.write(sent + '\\n')\n",
    "            f.write('\\n')\n",
    "    '''\n",
    "    return"
   ]
  },
  {
   "cell_type": "code",
   "execution_count": 1035,
   "metadata": {},
   "outputs": [],
   "source": [
    "### create cv file for tuning attention weights ###\n",
    "def get_fold_text_full(infile, test_fold):\n",
    "    df = pd.read_csv(infile)\n",
    "    assert len(df) == 1250\n",
    "    test = list(range((test_fold - 1) * 125, test_fold * 125))\n",
    "    train = list(set(range(0, 1250)) - set(test))\n",
    "    train_df = df.iloc[train, :]\n",
    "    assert len(train_df) == (1250 - 125)\n",
    "    #test_df = df.iloc[test, :]\n",
    "    with open('./attention_cv_full/fold{}.txt'.format(test_fold), 'w') as f:\n",
    "        for _, row in train_df.iterrows():\n",
    "            sents = sent_tokenize(row['seed']) + sent_tokenize(row['buildup']) + sent_tokenize(row['climax']) + sent_tokenize(row['resolution']) + sent_tokenize(row['outlook'])\n",
    "            for sent in sents:\n",
    "                f.write(sent + '\\n')\n",
    "            f.write('\\n')\n",
    "    return"
   ]
  },
  {
   "cell_type": "code",
   "execution_count": 1034,
   "metadata": {},
   "outputs": [],
   "source": [
    "get_fold_text('final_stories.csv', 10)"
   ]
  },
  {
   "cell_type": "code",
   "execution_count": 1045,
   "metadata": {},
   "outputs": [],
   "source": [
    "get_fold_text_full('final_stories.csv', 10)"
   ]
  },
  {
   "cell_type": "code",
   "execution_count": null,
   "metadata": {},
   "outputs": [],
   "source": [
    "### Below for goal-oriented ie. predict resolution ###\n",
    "# if the context is outlook only, \n",
    "# train it the same way as predicting outlook \n",
    "# reuse attention_cv folder"
   ]
  },
  {
   "cell_type": "code",
   "execution_count": null,
   "metadata": {},
   "outputs": [],
   "source": [
    "# if the context is full story\n",
    "# also train it the same way as predicting outlook\n",
    "# reuse attention_cv_full folder\n",
    "# only different at prediction time"
   ]
  }
 ],
 "metadata": {
  "kernelspec": {
   "display_name": "Python 3",
   "language": "python",
   "name": "python3"
  },
  "language_info": {
   "codemirror_mode": {
    "name": "ipython",
    "version": 3
   },
   "file_extension": ".py",
   "mimetype": "text/x-python",
   "name": "python",
   "nbconvert_exporter": "python",
   "pygments_lexer": "ipython3",
   "version": "3.7.1"
  }
 },
 "nbformat": 4,
 "nbformat_minor": 1
}
